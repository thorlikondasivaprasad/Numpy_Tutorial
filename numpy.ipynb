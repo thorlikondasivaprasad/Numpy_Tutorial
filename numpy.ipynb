{
 "cells": [
  {
   "cell_type": "markdown",
   "id": "a7245c04",
   "metadata": {},
   "source": [
    "# NUMPY Basics"
   ]
  },
  {
   "cell_type": "code",
   "execution_count": 2,
   "id": "f3e688ac",
   "metadata": {},
   "outputs": [
    {
     "data": {
      "text/plain": [
       "array([1, 2, 3, 4, 5])"
      ]
     },
     "execution_count": 2,
     "metadata": {},
     "output_type": "execute_result"
    }
   ],
   "source": [
    "import numpy as np\n",
    "\n",
    "a=np.array([1,2,3,4,5]) #1-D\n",
    "a"
   ]
  },
  {
   "cell_type": "code",
   "execution_count": 3,
   "id": "7b9af878",
   "metadata": {},
   "outputs": [
    {
     "data": {
      "text/plain": [
       "array([[1, 2, 3],\n",
       "       [1, 2, 3]])"
      ]
     },
     "execution_count": 3,
     "metadata": {},
     "output_type": "execute_result"
    }
   ],
   "source": [
    "b=np.array([[1,2,3],[1,2,3]]) #2-D\n",
    "b"
   ]
  },
  {
   "cell_type": "code",
   "execution_count": 44,
   "id": "3ed064d9",
   "metadata": {},
   "outputs": [
    {
     "data": {
      "text/plain": [
       "array([[[1, 2, 3],\n",
       "        [1, 2, 3]],\n",
       "\n",
       "       [[1, 2, 3],\n",
       "        [1, 2, 3]]])"
      ]
     },
     "execution_count": 44,
     "metadata": {},
     "output_type": "execute_result"
    }
   ],
   "source": [
    "c=np.array([[[1,2,3],[1,2,3]],[[1,2,3],[1,2,3]]])  #3-D\n",
    "c"
   ]
  },
  {
   "cell_type": "code",
   "execution_count": 7,
   "id": "2da907c6",
   "metadata": {},
   "outputs": [
    {
     "data": {
      "text/plain": [
       "array([[1, 1, 1],\n",
       "       [1, 1, 1],\n",
       "       [1, 1, 1]])"
      ]
     },
     "execution_count": 7,
     "metadata": {},
     "output_type": "execute_result"
    }
   ],
   "source": [
    "q=np.ones((3,3),dtype=int)\n",
    "q"
   ]
  },
  {
   "cell_type": "code",
   "execution_count": 9,
   "id": "2f7ed3c5",
   "metadata": {},
   "outputs": [
    {
     "data": {
      "text/plain": [
       "array([[1., 0., 0.],\n",
       "       [0., 1., 0.],\n",
       "       [0., 0., 1.]])"
      ]
     },
     "execution_count": 9,
     "metadata": {},
     "output_type": "execute_result"
    }
   ],
   "source": [
    "w=np.eye(3,3,dtype=float)\n",
    "w"
   ]
  },
  {
   "cell_type": "code",
   "execution_count": 10,
   "id": "16bdb528",
   "metadata": {},
   "outputs": [
    {
     "data": {
      "text/plain": [
       "(5,)"
      ]
     },
     "execution_count": 10,
     "metadata": {},
     "output_type": "execute_result"
    }
   ],
   "source": [
    "a.shape"
   ]
  },
  {
   "cell_type": "code",
   "execution_count": 11,
   "id": "fcdd4964",
   "metadata": {},
   "outputs": [
    {
     "data": {
      "text/plain": [
       "(3, 3)"
      ]
     },
     "execution_count": 11,
     "metadata": {},
     "output_type": "execute_result"
    }
   ],
   "source": [
    "w.shape   #shape method"
   ]
  },
  {
   "cell_type": "code",
   "execution_count": 43,
   "id": "8c4c4f50",
   "metadata": {},
   "outputs": [
    {
     "name": "stdout",
     "output_type": "stream",
     "text": [
      "[1 2 3 4 5]\n",
      "[2 3 4 5 6 7 8]\n",
      "[1 2 3 4 5 6 7 8]\n",
      "[8 7 6 5 4 3 2 1]\n",
      "[8 6 4 2]\n",
      "[1 2 3 4 5 6 7]\n"
     ]
    }
   ],
   "source": [
    "A=np.array([1,2,3,4,5,6,7,8])  # slicing in ndarray\n",
    "print(A[:5])\n",
    "print(A[1:])\n",
    "print(A[:])\n",
    "print(A[::-1])\n",
    "print(A[::-2])\n",
    "print(A[-8:-1])\n"
   ]
  },
  {
   "cell_type": "code",
   "execution_count": 28,
   "id": "78b64f9d",
   "metadata": {},
   "outputs": [
    {
     "name": "stdout",
     "output_type": "stream",
     "text": [
      "[[1 2 3]\n",
      " [4 5 6]]\n",
      "[[1 2]\n",
      " [4 5]]\n"
     ]
    }
   ],
   "source": [
    "e=np.array([[1,2,3],[4,5,6]])  #for indexing\n",
    "            #  0       1\n",
    "print(e)\n",
    "print(e[:,:2])"
   ]
  },
  {
   "cell_type": "code",
   "execution_count": 39,
   "id": "5e1bb1be",
   "metadata": {},
   "outputs": [
    {
     "name": "stdout",
     "output_type": "stream",
     "text": [
      "6\n",
      "2\n"
     ]
    }
   ],
   "source": [
    "e=np.array([[1,2,3],[4,5,6]])  \n",
    "print(e[1,2])\n",
    "print(e[0,1])"
   ]
  },
  {
   "cell_type": "code",
   "execution_count": 42,
   "id": "0aac0f04",
   "metadata": {},
   "outputs": [
    {
     "data": {
      "text/plain": [
       "array([[ 1,  2,  3,  4],\n",
       "       [ 5,  6,  7,  8],\n",
       "       [ 9, 10, 11, 12],\n",
       "       [13, 14, 15, 16],\n",
       "       [17, 18, 19, 20]])"
      ]
     },
     "execution_count": 42,
     "metadata": {},
     "output_type": "execute_result"
    }
   ],
   "source": [
    "a=np.arange(1,21).reshape(5,4)\n",
    "a"
   ]
  },
  {
   "cell_type": "code",
   "execution_count": 46,
   "id": "ee496557",
   "metadata": {},
   "outputs": [
    {
     "data": {
      "text/plain": [
       "['T',\n",
       " '__abs__',\n",
       " '__add__',\n",
       " '__and__',\n",
       " '__array__',\n",
       " '__array_finalize__',\n",
       " '__array_function__',\n",
       " '__array_interface__',\n",
       " '__array_prepare__',\n",
       " '__array_priority__',\n",
       " '__array_struct__',\n",
       " '__array_ufunc__',\n",
       " '__array_wrap__',\n",
       " '__bool__',\n",
       " '__class__',\n",
       " '__class_getitem__',\n",
       " '__complex__',\n",
       " '__contains__',\n",
       " '__copy__',\n",
       " '__deepcopy__',\n",
       " '__delattr__',\n",
       " '__delitem__',\n",
       " '__dir__',\n",
       " '__divmod__',\n",
       " '__dlpack__',\n",
       " '__dlpack_device__',\n",
       " '__doc__',\n",
       " '__eq__',\n",
       " '__float__',\n",
       " '__floordiv__',\n",
       " '__format__',\n",
       " '__ge__',\n",
       " '__getattribute__',\n",
       " '__getitem__',\n",
       " '__getstate__',\n",
       " '__gt__',\n",
       " '__hash__',\n",
       " '__iadd__',\n",
       " '__iand__',\n",
       " '__ifloordiv__',\n",
       " '__ilshift__',\n",
       " '__imatmul__',\n",
       " '__imod__',\n",
       " '__imul__',\n",
       " '__index__',\n",
       " '__init__',\n",
       " '__init_subclass__',\n",
       " '__int__',\n",
       " '__invert__',\n",
       " '__ior__',\n",
       " '__ipow__',\n",
       " '__irshift__',\n",
       " '__isub__',\n",
       " '__iter__',\n",
       " '__itruediv__',\n",
       " '__ixor__',\n",
       " '__le__',\n",
       " '__len__',\n",
       " '__lshift__',\n",
       " '__lt__',\n",
       " '__matmul__',\n",
       " '__mod__',\n",
       " '__mul__',\n",
       " '__ne__',\n",
       " '__neg__',\n",
       " '__new__',\n",
       " '__or__',\n",
       " '__pos__',\n",
       " '__pow__',\n",
       " '__radd__',\n",
       " '__rand__',\n",
       " '__rdivmod__',\n",
       " '__reduce__',\n",
       " '__reduce_ex__',\n",
       " '__repr__',\n",
       " '__rfloordiv__',\n",
       " '__rlshift__',\n",
       " '__rmatmul__',\n",
       " '__rmod__',\n",
       " '__rmul__',\n",
       " '__ror__',\n",
       " '__rpow__',\n",
       " '__rrshift__',\n",
       " '__rshift__',\n",
       " '__rsub__',\n",
       " '__rtruediv__',\n",
       " '__rxor__',\n",
       " '__setattr__',\n",
       " '__setitem__',\n",
       " '__setstate__',\n",
       " '__sizeof__',\n",
       " '__str__',\n",
       " '__sub__',\n",
       " '__subclasshook__',\n",
       " '__truediv__',\n",
       " '__xor__',\n",
       " 'all',\n",
       " 'any',\n",
       " 'argmax',\n",
       " 'argmin',\n",
       " 'argpartition',\n",
       " 'argsort',\n",
       " 'astype',\n",
       " 'base',\n",
       " 'byteswap',\n",
       " 'choose',\n",
       " 'clip',\n",
       " 'compress',\n",
       " 'conj',\n",
       " 'conjugate',\n",
       " 'copy',\n",
       " 'ctypes',\n",
       " 'cumprod',\n",
       " 'cumsum',\n",
       " 'data',\n",
       " 'diagonal',\n",
       " 'dot',\n",
       " 'dtype',\n",
       " 'dump',\n",
       " 'dumps',\n",
       " 'fill',\n",
       " 'flags',\n",
       " 'flat',\n",
       " 'flatten',\n",
       " 'getfield',\n",
       " 'imag',\n",
       " 'item',\n",
       " 'itemset',\n",
       " 'itemsize',\n",
       " 'max',\n",
       " 'mean',\n",
       " 'min',\n",
       " 'nbytes',\n",
       " 'ndim',\n",
       " 'newbyteorder',\n",
       " 'nonzero',\n",
       " 'partition',\n",
       " 'prod',\n",
       " 'ptp',\n",
       " 'put',\n",
       " 'ravel',\n",
       " 'real',\n",
       " 'repeat',\n",
       " 'reshape',\n",
       " 'resize',\n",
       " 'round',\n",
       " 'searchsorted',\n",
       " 'setfield',\n",
       " 'setflags',\n",
       " 'shape',\n",
       " 'size',\n",
       " 'sort',\n",
       " 'squeeze',\n",
       " 'std',\n",
       " 'strides',\n",
       " 'sum',\n",
       " 'swapaxes',\n",
       " 'take',\n",
       " 'tobytes',\n",
       " 'tofile',\n",
       " 'tolist',\n",
       " 'tostring',\n",
       " 'trace',\n",
       " 'transpose',\n",
       " 'var',\n",
       " 'view']"
      ]
     },
     "execution_count": 46,
     "metadata": {},
     "output_type": "execute_result"
    }
   ],
   "source": [
    "dir(a) # a is a numpy array"
   ]
  },
  {
   "cell_type": "code",
   "execution_count": 55,
   "id": "705aa263",
   "metadata": {},
   "outputs": [
    {
     "data": {
      "text/plain": [
       "array([0., 0., 0.])"
      ]
     },
     "execution_count": 55,
     "metadata": {},
     "output_type": "execute_result"
    }
   ],
   "source": [
    "np.zeros(3)  # zeros method"
   ]
  },
  {
   "cell_type": "code",
   "execution_count": 61,
   "id": "d868135e",
   "metadata": {},
   "outputs": [
    {
     "data": {
      "text/plain": [
       "array([7.36754195e+005, 7.98467880e+146])"
      ]
     },
     "execution_count": 61,
     "metadata": {},
     "output_type": "execute_result"
    }
   ],
   "source": [
    "a1=np.empty(2)  # empty method\n",
    "a1"
   ]
  },
  {
   "cell_type": "code",
   "execution_count": 60,
   "id": "59b78530",
   "metadata": {},
   "outputs": [
    {
     "data": {
      "text/plain": [
       "array([ 0.  ,  2.75,  5.5 ,  8.25, 11.  ])"
      ]
     },
     "execution_count": 60,
     "metadata": {},
     "output_type": "execute_result"
    }
   ],
   "source": [
    "a2=np.linspace(0,10,num=5)  #linspace to divide the a\n",
    "a2"
   ]
  },
  {
   "cell_type": "code",
   "execution_count": 66,
   "id": "f154a7db",
   "metadata": {},
   "outputs": [
    {
     "name": "stdout",
     "output_type": "stream",
     "text": [
      "[1 2 3]\n",
      "<class 'list'>\n",
      "<class 'numpy.ndarray'>\n"
     ]
    }
   ],
   "source": [
    "a3=[1,2,3]   # list\n",
    "a4=np.asarray(a3)  #asarray method\n",
    "print(a4)\n",
    "print(type(a3))    #type is list\n",
    "print(type(a4))   #type is ndarray"
   ]
  },
  {
   "cell_type": "code",
   "execution_count": 68,
   "id": "3d09181a",
   "metadata": {},
   "outputs": [
    {
     "data": {
      "text/plain": [
       "array([1.e+00, 1.e+10])"
      ]
     },
     "execution_count": 68,
     "metadata": {},
     "output_type": "execute_result"
    }
   ],
   "source": [
    "np.logspace(0,10,2)"
   ]
  },
  {
   "cell_type": "code",
   "execution_count": 69,
   "id": "b36fac43",
   "metadata": {},
   "outputs": [
    {
     "data": {
      "text/plain": [
       "3"
      ]
     },
     "execution_count": 69,
     "metadata": {},
     "output_type": "execute_result"
    }
   ],
   "source": [
    "a4.size             #size returns no.of elements"
   ]
  },
  {
   "cell_type": "code",
   "execution_count": 71,
   "id": "8886106d",
   "metadata": {},
   "outputs": [
    {
     "data": {
      "text/plain": [
       "6"
      ]
     },
     "execution_count": 71,
     "metadata": {},
     "output_type": "execute_result"
    }
   ],
   "source": [
    "x=np.array([[1,2,3],[2,3,4]]).size\n",
    "x"
   ]
  },
  {
   "cell_type": "code",
   "execution_count": 73,
   "id": "a2a97827",
   "metadata": {},
   "outputs": [
    {
     "data": {
      "text/plain": [
       "array([[ 1,  2,  3,  4],\n",
       "       [ 5,  6,  7,  8],\n",
       "       [ 9, 10, 11, 12],\n",
       "       [13, 14, 15, 16],\n",
       "       [17, 18, 19, 20]])"
      ]
     },
     "execution_count": 73,
     "metadata": {},
     "output_type": "execute_result"
    }
   ],
   "source": [
    "a"
   ]
  },
  {
   "cell_type": "code",
   "execution_count": 74,
   "id": "b058ec32",
   "metadata": {},
   "outputs": [
    {
     "data": {
      "text/plain": [
       "20"
      ]
     },
     "execution_count": 74,
     "metadata": {},
     "output_type": "execute_result"
    }
   ],
   "source": [
    "a.size"
   ]
  },
  {
   "cell_type": "code",
   "execution_count": 75,
   "id": "f22c24fb",
   "metadata": {},
   "outputs": [
    {
     "data": {
      "text/plain": [
       "(5, 4)"
      ]
     },
     "execution_count": 75,
     "metadata": {},
     "output_type": "execute_result"
    }
   ],
   "source": [
    "a.shape"
   ]
  },
  {
   "cell_type": "code",
   "execution_count": 79,
   "id": "6a06a578",
   "metadata": {},
   "outputs": [
    {
     "data": {
      "text/plain": [
       "array([[ 1,  2,  3,  4,  5],\n",
       "       [ 6,  7,  8,  9, 10],\n",
       "       [11, 12, 13, 14, 15],\n",
       "       [16, 17, 18, 19, 20]])"
      ]
     },
     "execution_count": 79,
     "metadata": {},
     "output_type": "execute_result"
    }
   ],
   "source": [
    "a8=a.reshape(4,5) \n",
    "#reshape will reshapes the array into any shape based on dimension\n",
    "a8"
   ]
  },
  {
   "cell_type": "code",
   "execution_count": 80,
   "id": "1d47de63",
   "metadata": {},
   "outputs": [
    {
     "data": {
      "text/plain": [
       "(4, 5)"
      ]
     },
     "execution_count": 80,
     "metadata": {},
     "output_type": "execute_result"
    }
   ],
   "source": [
    "a8.shape"
   ]
  },
  {
   "cell_type": "code",
   "execution_count": 92,
   "id": "63a0c220",
   "metadata": {},
   "outputs": [
    {
     "name": "stdout",
     "output_type": "stream",
     "text": [
      "the MEAN of  [1 2 3 4 5] is : 3.0\n"
     ]
    }
   ],
   "source": [
    "z=np.array([1,2,3,4,5])   #mean\n",
    "print(\"the MEAN of \",z,\"is :\",z.mean())"
   ]
  },
  {
   "cell_type": "code",
   "execution_count": 91,
   "id": "fd014aea",
   "metadata": {},
   "outputs": [
    {
     "name": "stdout",
     "output_type": "stream",
     "text": [
      "the STD of  [1 2 3 4 5] is : 1.4142135623730951\n"
     ]
    }
   ],
   "source": [
    "z1=np.array([1,2,3,4,5])  #standard deviation\n",
    "print(\"the STD of \",z1,\"is :\",z1.std())"
   ]
  },
  {
   "cell_type": "code",
   "execution_count": 97,
   "id": "5608199f",
   "metadata": {},
   "outputs": [
    {
     "name": "stdout",
     "output_type": "stream",
     "text": [
      "the varience of  [1 2 3 4 5] is : 2.0\n"
     ]
    }
   ],
   "source": [
    "z2=np.array([1,2,3,4,5])  #varience\n",
    "print(\"the varience of \",z2,\"is :\",z2.var())"
   ]
  },
  {
   "cell_type": "code",
   "execution_count": 89,
   "id": "5f3637d8",
   "metadata": {},
   "outputs": [
    {
     "name": "stdout",
     "output_type": "stream",
     "text": [
      "[[[1 2]\n",
      "  [3 4]]\n",
      "\n",
      " [[1 2]\n",
      "  [1 2]]]\n"
     ]
    },
    {
     "data": {
      "text/plain": [
       "(2, 2, 2)"
      ]
     },
     "execution_count": 89,
     "metadata": {},
     "output_type": "execute_result"
    }
   ],
   "source": [
    "y=np.array([[[1,2],[3,4]],[[1,2],[1,2]]])   \n",
    "print(y)\n",
    "y.shape            #shape method for 3-D"
   ]
  },
  {
   "cell_type": "code",
   "execution_count": 96,
   "id": "0ce66099",
   "metadata": {},
   "outputs": [
    {
     "data": {
      "text/plain": [
       "array([[20.1, 20.1],\n",
       "       [20.1, 20.1]])"
      ]
     },
     "execution_count": 96,
     "metadata": {},
     "output_type": "execute_result"
    }
   ],
   "source": [
    "np.full((2,2),20.1)  #full method"
   ]
  },
  {
   "cell_type": "code",
   "execution_count": 116,
   "id": "2796df97",
   "metadata": {},
   "outputs": [
    {
     "name": "stdout",
     "output_type": "stream",
     "text": [
      "[ 1  2  3  4  5  6  7 10]\n"
     ]
    },
    {
     "data": {
      "text/plain": [
       "array([[1, 2, 4],\n",
       "       [2, 4, 5]])"
      ]
     },
     "execution_count": 116,
     "metadata": {},
     "output_type": "execute_result"
    }
   ],
   "source": [
    "a12=np.array([1,3,5,7,2,4,6,10])\n",
    "a12.sort()      \n",
    "#sort() method\n",
    "print(a12)\n",
    "a13=np.array([[4,1,2],[4,5,2]])  \n",
    "np.sort(a13,axis=1)  "
   ]
  },
  {
   "cell_type": "code",
   "execution_count": 108,
   "id": "c7d28fc8",
   "metadata": {},
   "outputs": [
    {
     "data": {
      "text/plain": [
       "array([[1, 2],\n",
       "       [3, 4]])"
      ]
     },
     "execution_count": 108,
     "metadata": {},
     "output_type": "execute_result"
    }
   ],
   "source": [
    "y=np.array([[1,2],[3,4]]) \n",
    "y"
   ]
  },
  {
   "cell_type": "code",
   "execution_count": 103,
   "id": "10fc8555",
   "metadata": {},
   "outputs": [
    {
     "data": {
      "text/plain": [
       "array([[10, 20],\n",
       "       [30, 40]])"
      ]
     },
     "execution_count": 103,
     "metadata": {},
     "output_type": "execute_result"
    }
   ],
   "source": [
    "z4=np.array([[10,20],[30,40]])\n",
    "z4"
   ]
  },
  {
   "cell_type": "markdown",
   "id": "34194730",
   "metadata": {},
   "source": [
    "concat=np.concatenate((y,z4),axis=0)#concatenate method axis=0 rows \n",
    "concat"
   ]
  },
  {
   "cell_type": "code",
   "execution_count": 114,
   "id": "bc5a53e1",
   "metadata": {},
   "outputs": [
    {
     "data": {
      "text/plain": [
       "array([[ 1,  2, 10, 20],\n",
       "       [ 3,  4, 30, 40]])"
      ]
     },
     "execution_count": 114,
     "metadata": {},
     "output_type": "execute_result"
    }
   ],
   "source": [
    "concat=np.concatenate((y,z4),axis=1)#concatenate method axis=1 cols \n",
    "concat"
   ]
  },
  {
   "cell_type": "code",
   "execution_count": 132,
   "id": "dee2d17e",
   "metadata": {},
   "outputs": [
    {
     "name": "stdout",
     "output_type": "stream",
     "text": [
      "Output sorted array indices [1 2 5 0 4 3 6]\n",
      "\n",
      "Output sorted array : [0 1 1 2 4 5 9]\n"
     ]
    }
   ],
   "source": [
    "a12=np.array([2,0,1,5,4,1,9])  #argsort method returns array of indices from sorted array compared with original array\n",
    "a11=np.argsort(a12)\n",
    "print(\"Output sorted array indices\",a11)\n",
    "print()\n",
    "print(\"Output sorted array :\",a12[a11])"
   ]
  },
  {
   "cell_type": "code",
   "execution_count": 142,
   "id": "64074a2d",
   "metadata": {},
   "outputs": [
    {
     "data": {
      "text/plain": [
       "2"
      ]
     },
     "execution_count": 142,
     "metadata": {},
     "output_type": "execute_result"
    }
   ],
   "source": [
    "aq=np.array([[1,2,3],[1,2,3]]).ndim  #ndim\n",
    "aq"
   ]
  },
  {
   "cell_type": "code",
   "execution_count": null,
   "id": "67738df7",
   "metadata": {},
   "outputs": [],
   "source": [
    "aq=np.array([[1,2,3],[1,2,3]])\n",
    "print(aq[aq<3])        #different case in accessing"
   ]
  },
  {
   "cell_type": "code",
   "execution_count": 145,
   "id": "9d1a1955",
   "metadata": {},
   "outputs": [
    {
     "name": "stdout",
     "output_type": "stream",
     "text": [
      "[ 3  6  9 12 30]\n"
     ]
    }
   ],
   "source": [
    "p=np.array([1,3,6,9,23,12,43,30])\n",
    "print(p[p%3==0])   #different case in accessing"
   ]
  },
  {
   "cell_type": "code",
   "execution_count": null,
   "id": "23a6e78e",
   "metadata": {},
   "outputs": [],
   "source": []
  }
 ],
 "metadata": {
  "kernelspec": {
   "display_name": "Python 3 (ipykernel)",
   "language": "python",
   "name": "python3"
  },
  "language_info": {
   "codemirror_mode": {
    "name": "ipython",
    "version": 3
   },
   "file_extension": ".py",
   "mimetype": "text/x-python",
   "name": "python",
   "nbconvert_exporter": "python",
   "pygments_lexer": "ipython3",
   "version": "3.11.3"
  }
 },
 "nbformat": 4,
 "nbformat_minor": 5
}
